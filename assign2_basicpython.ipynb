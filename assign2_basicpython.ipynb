{
 "cells": [
  {
   "cell_type": "code",
   "execution_count": 2,
   "metadata": {},
   "outputs": [
    {
     "data": {
      "text/plain": [
       "'1.What are the two values of the Boolean data type? How do you write them?\\n\\nAnswers: Two boolean data types are True or False. True represents as 1 and False represens as 0.\\n'"
      ]
     },
     "execution_count": 2,
     "metadata": {},
     "output_type": "execute_result"
    }
   ],
   "source": [
    "'''1.What are the two values of the Boolean data type? How do you write them?\n",
    "\n",
    "Answers: Two boolean data types are True or False. True represents as 1 and False represens as 0.\n",
    "'''"
   ]
  },
  {
   "cell_type": "code",
   "execution_count": 4,
   "metadata": {},
   "outputs": [
    {
     "data": {
      "text/plain": [
       "'2. What are the three different types of Boolean operators?\\n\\n Answer: and , or , not.\\n '"
      ]
     },
     "execution_count": 4,
     "metadata": {},
     "output_type": "execute_result"
    }
   ],
   "source": [
    "'''2. What are the three different types of Boolean operators?\n",
    "\n",
    " Answer: and , or , not.\n",
    " '''"
   ]
  },
  {
   "cell_type": "code",
   "execution_count": 5,
   "metadata": {},
   "outputs": [
    {
     "data": {
      "text/plain": [
       "'3. Make a list of each Boolean operator&#39;s truth tables (i.e. every possible combination of Boolean\\nvalues for the operator and what it evaluate ).\\n\\nAnswer: Truth table of and operator:\\n        A     B     A and B \\n        0     0       0\\n        0     1       0 \\n        1     0       0\\n        1     1       1\\n\\n        Truth table of or operator:\\n        A     B     A or B \\n        0     0       0\\n        0     1       1\\n        1     0       1  \\n        1     1       1\\n        \\n        Truth table of not operator:\\n        A     B     A not B\\n        0     1       1\\n        1     0       0  \\n'"
      ]
     },
     "execution_count": 5,
     "metadata": {},
     "output_type": "execute_result"
    }
   ],
   "source": [
    "'''3. Make a list of each Boolean operator&#39;s truth tables (i.e. every possible combination of Boolean\n",
    "values for the operator and what it evaluate ).\n",
    "\n",
    "Answer: Truth table of and operator:\n",
    "        A     B     A and B \n",
    "        0     0       0\n",
    "        0     1       0 \n",
    "        1     0       0\n",
    "        1     1       1\n",
    "\n",
    "        Truth table of or operator:\n",
    "        A     B     A or B \n",
    "        0     0       0\n",
    "        0     1       1\n",
    "        1     0       1  \n",
    "        1     1       1\n",
    "        \n",
    "        Truth table of not operator:\n",
    "        A     B     A not B\n",
    "        0     1       1\n",
    "        1     0       0  \n",
    "'''"
   ]
  },
  {
   "cell_type": "code",
   "execution_count": 6,
   "metadata": {},
   "outputs": [
    {
     "data": {
      "text/plain": [
       "'(5> 4) and (3 == 5)\\nnot (5 > 4)\\n(5 > 4) or (3 == 5)\\nnot ((5 > 4) or (3 == 5))\\n(True and True) and (True == False)\\n(not False) or (not True)\\n\\nAnswer:  (5 > 4) and (3 == 5)   output: False\\n        not (5 >4)   output: False\\n        (5 > 4) or (3 == 5)   output: True\\n        (True and True) and (True == False)   output: False\\n        (not False) or (not True)   output: True\\n'"
      ]
     },
     "execution_count": 6,
     "metadata": {},
     "output_type": "execute_result"
    }
   ],
   "source": [
    "'''(5> 4) and (3 == 5)\n",
    "not (5 > 4)\n",
    "(5 > 4) or (3 == 5)\n",
    "not ((5 > 4) or (3 == 5))\n",
    "(True and True) and (True == False)\n",
    "(not False) or (not True)\n",
    "\n",
    "Answer:  (5 > 4) and (3 == 5)   output: False\n",
    "        not (5 >4)   output: False\n",
    "        (5 > 4) or (3 == 5)   output: True\n",
    "        (True and True) and (True == False)   output: False\n",
    "        (not False) or (not True)   output: True\n",
    "'''"
   ]
  },
  {
   "cell_type": "code",
   "execution_count": 7,
   "metadata": {},
   "outputs": [
    {
     "data": {
      "text/plain": [
       "'5. What are the six comparison operators?\\nAnswer : So, we have six comparison operators in python which include less than(<),\\n    greater than(>), less than or equal to(<=), greater than or equal to(>=), equal to(=), and not equal to(1=)\\n\\n\\n\\n'"
      ]
     },
     "execution_count": 7,
     "metadata": {},
     "output_type": "execute_result"
    }
   ],
   "source": [
    "'''5. What are the six comparison operators?\n",
    "Answer : So, we have six comparison operators in python which include less than(<),\n",
    "    greater than(>), less than or equal to(<=), greater than or equal to(>=), equal to(=), and not equal to(1=)\n",
    "\n",
    "\n",
    "\n",
    "'''"
   ]
  },
  {
   "cell_type": "code",
   "execution_count": 10,
   "metadata": {},
   "outputs": [
    {
     "data": {
      "text/plain": [
       "'6. How do you tell the difference between the equal to and assignment operators?Describe a\\ncondition and when you would use one.\\n\\nAnswer : The “=” is an assignment operator is used to assign the value on the right to the variable on the left.\\n\\nFor example:  a = 10 , where a is variable and 10 is value which is stored in variable a .\\n            b = 20 , where b is variable and 20 is value which is stored in variable b .\\n\\n       The ‘==’ operator checks whether the two given operands are equal or not. If so,\\n       it returns true. Otherwise it returns false.\\n        For example: 5==5\\n\\n        This will return true.\\n\\n'"
      ]
     },
     "execution_count": 10,
     "metadata": {},
     "output_type": "execute_result"
    }
   ],
   "source": [
    "'''6. How do you tell the difference between the equal to and assignment operators?Describe a\n",
    "condition and when you would use one.\n",
    "\n",
    "Answer : The “=” is an assignment operator is used to assign the value on the right to the variable on the left.\n",
    "\n",
    "For example:  a = 10 , where a is variable and 10 is value which is stored in variable a .\n",
    "            b = 20 , where b is variable and 20 is value which is stored in variable b .\n",
    "\n",
    "       The ‘==’ operator checks whether the two given operands are equal or not. If so,\n",
    "       it returns true. Otherwise it returns false.\n",
    "        For example: 5==5\n",
    "\n",
    "        This will return true.\n",
    "\n",
    "'''\n"
   ]
  },
  {
   "cell_type": "code",
   "execution_count": 11,
   "metadata": {},
   "outputs": [
    {
     "data": {
      "text/plain": [
       "\"7. Identify the three blocks in this code:\\nspam = 0\\nif spam == 10:\\nprint(eggs)\\nif spam > 5:\\nprint(bacon)\\nelse:\\nprint(ham)\\nprint(spam)\\nprint(spam)\\n\\nAnswer : spam = 0\\n    if spam == 10:\\n    print('eggs')        # indent increased, block A\\n    if spam > 5:         # still block A\\n        print('bacon')   # still block A, indent increased, block B inside block A\\n    else:                # still block A, indent decreased, block B ended in line above\\n        print('ham')     # still block A, indent increased, block C inside block A\\n    print('spam')        # still block A, indent decreased, block C ended in line above\\n    print('spam')            # indent decreased, block A ended in line above\\n    \""
      ]
     },
     "execution_count": 11,
     "metadata": {},
     "output_type": "execute_result"
    }
   ],
   "source": [
    "'''7. Identify the three blocks in this code:\n",
    "spam = 0\n",
    "if spam == 10:\n",
    "print(eggs)\n",
    "if spam > 5:\n",
    "print(bacon)\n",
    "else:\n",
    "print(ham)\n",
    "print(spam)\n",
    "print(spam)\n",
    "\n",
    "Answer :The three blocks are everything inside the if statement and the lines print('bacon') and print('ham').\n",
    "\n",
    "\n",
    "\n",
    "    spam = 0\n",
    "    if spam == 10:\n",
    "    print('eggs')        # indent increased, block A\n",
    "    if spam > 5:         # still block A\n",
    "        print('bacon')   # still block A, indent increased, block B inside block A\n",
    "    else:                # still block A, indent decreased, block B ended in line above\n",
    "        print('ham')     # still block A, indent increased, block C inside block A\n",
    "    print('spam')        # still block A, indent decreased, block C ended in line above\n",
    "    print('spam')            # indent decreased, block A ended in line above\n",
    "    '''"
   ]
  },
  {
   "cell_type": "code",
   "execution_count": 16,
   "metadata": {},
   "outputs": [
    {
     "name": "stdout",
     "output_type": "stream",
     "text": [
      "5\n",
      "Greetings!\n"
     ]
    }
   ],
   "source": [
    "'''8. Write code that prints Hello if 1 is stored in spam, prints Howdy if 2 is stored in spam, and prints\n",
    "Greetings! if anything else is stored in spam.'''\n",
    "\n",
    "spam = int(input())\n",
    "if spam == 1:\n",
    "    print(\"Hello\")\n",
    "elif spam == 2:\n",
    "    print(\"Howdy\")\n",
    "else : \n",
    "    print(\"Greetings!\")"
   ]
  },
  {
   "cell_type": "code",
   "execution_count": 17,
   "metadata": {},
   "outputs": [
    {
     "data": {
      "text/plain": [
       "'9.If your programme is stuck in an endless loop, what keys you’ll press?\\nAnswer: To stop, we have to break the endless loop, which can be done by pressing Ctrl+C .\\n\\n'"
      ]
     },
     "execution_count": 17,
     "metadata": {},
     "output_type": "execute_result"
    }
   ],
   "source": [
    "'''9.If your programme is stuck in an endless loop, what keys you’ll press?\n",
    "Answer: To stop, we have to break the endless loop, which can be done by pressing Ctrl+C .\n",
    "\n",
    "'''"
   ]
  },
  {
   "cell_type": "code",
   "execution_count": 18,
   "metadata": {},
   "outputs": [
    {
     "data": {
      "text/plain": [
       "'10. How can you tell the difference between break and continue?\\nAnswer: The main difference between break and continue is that break is used for immediate termination of loop.\\n        and ‘continue’ terminate the current iteration and resumes the control to the next iteration of the loop.\\n\\n'"
      ]
     },
     "execution_count": 18,
     "metadata": {},
     "output_type": "execute_result"
    }
   ],
   "source": [
    "'''10. How can you tell the difference between break and continue?\n",
    "Answer: The main difference between break and continue is that break is used for immediate termination of loop.\n",
    "        and ‘continue’ terminate the current iteration and resumes the control to the next iteration of the loop.\n",
    "\n",
    "'''"
   ]
  },
  {
   "cell_type": "code",
   "execution_count": 19,
   "metadata": {},
   "outputs": [
    {
     "data": {
      "text/plain": [
       "'11. In a for loop, what is the difference between range(10), range(0, 10), and range(0, 10, 1)?\\nAnwer : range(10) means it goes from 0 to before 10 (means 9)\\n                        0\\n                        1\\n                        2\\n                        3\\n                        4\\n                        5\\n                        6\\n                        7\\n                        8\\n                        9 . \\n        range(0,10) means it goes from 0 to before 10 (means 9) , it is same as range(10)\\n                        0\\n                        1\\n                        2\\n                        3\\n                        4\\n                        5\\n                        6\\n                        7\\n                        8\\n                        9 . \\n        range(0,10,1) means it goes from 0 to before 10 (means 9)  and differece between two number is 1.\\n                        0\\n                        1\\n                        2\\n                        3\\n                        4\\n                        5\\n                        6\\n                        7\\n                        8\\n                        9 .\\n'"
      ]
     },
     "execution_count": 19,
     "metadata": {},
     "output_type": "execute_result"
    }
   ],
   "source": [
    "'''11. In a for loop, what is the difference between range(10), range(0, 10), and range(0, 10, 1)?\n",
    "Anwer : range(10) means it goes from 0 to before 10 (means 9)\n",
    "                        0\n",
    "                        1\n",
    "                        2\n",
    "                        3\n",
    "                        4\n",
    "                        5\n",
    "                        6\n",
    "                        7\n",
    "                        8\n",
    "                        9 . \n",
    "        range(0,10) means it goes from 0 to before 10 (means 9) , it is same as range(10)\n",
    "                        0\n",
    "                        1\n",
    "                        2\n",
    "                        3\n",
    "                        4\n",
    "                        5\n",
    "                        6\n",
    "                        7\n",
    "                        8\n",
    "                        9 . \n",
    "        range(0,10,1) means it goes from 0 to before 10 (means 9)  and differece between two number is 1.\n",
    "                        0\n",
    "                        1\n",
    "                        2\n",
    "                        3\n",
    "                        4\n",
    "                        5\n",
    "                        6\n",
    "                        7\n",
    "                        8\n",
    "                        9 .\n",
    "'''"
   ]
  },
  {
   "cell_type": "code",
   "execution_count": 21,
   "metadata": {},
   "outputs": [
    {
     "name": "stdout",
     "output_type": "stream",
     "text": [
      "0\n",
      "1\n",
      "2\n",
      "3\n",
      "4\n",
      "5\n",
      "6\n",
      "7\n",
      "8\n",
      "9\n",
      "10\n"
     ]
    }
   ],
   "source": [
    "'''12. Write a short program that prints the numbers 1 to 10 using a for loop. '''\n",
    "i = 0\n",
    "for i in range(0,11,1):\n",
    "    print(i)\n"
   ]
  },
  {
   "cell_type": "code",
   "execution_count": 31,
   "metadata": {},
   "outputs": [
    {
     "name": "stdout",
     "output_type": "stream",
     "text": [
      "1\n",
      "2\n",
      "3\n",
      "4\n",
      "5\n",
      "6\n",
      "7\n",
      "8\n",
      "9\n",
      "10\n"
     ]
    }
   ],
   "source": [
    "'''12. Then write an equivalent program that prints the numbers 1 to 10 using a while loop.'''\n",
    "i = 0\n",
    "while i <10:\n",
    "    i = i+1\n",
    "    print(i)\n"
   ]
  },
  {
   "cell_type": "code",
   "execution_count": 32,
   "metadata": {},
   "outputs": [
    {
     "data": {
      "text/plain": [
       "'13. If you had a function named bacon() inside a module named spam, how would you call it after\\nimporting spam?\\nAnswer : it can be called by the function spam.bacon()\\n\\n\\n'"
      ]
     },
     "execution_count": 32,
     "metadata": {},
     "output_type": "execute_result"
    }
   ],
   "source": [
    "'''13. If you had a function named bacon() inside a module named spam, how would you call it after\n",
    "importing spam?\n",
    "Answer : it can be called by the function spam.bacon()\n",
    "\n",
    "\n",
    "'''"
   ]
  },
  {
   "cell_type": "code",
   "execution_count": null,
   "metadata": {},
   "outputs": [],
   "source": []
  }
 ],
 "metadata": {
  "kernelspec": {
   "display_name": "Python 3",
   "language": "python",
   "name": "python3"
  },
  "language_info": {
   "codemirror_mode": {
    "name": "ipython",
    "version": 3
   },
   "file_extension": ".py",
   "mimetype": "text/x-python",
   "name": "python",
   "nbconvert_exporter": "python",
   "pygments_lexer": "ipython3",
   "version": "3.8.3"
  }
 },
 "nbformat": 4,
 "nbformat_minor": 4
}
